{
 "cells": [
  {
   "cell_type": "code",
   "execution_count": 10,
   "id": "8331b1b4",
   "metadata": {},
   "outputs": [],
   "source": [
    "import re\n",
    "import numpy as np\n",
    "import pandas as pd\n",
    "import tensorflow as tf\n",
    "from tensorflow.keras.models import Sequential\n",
    "from tensorflow.keras.layers import LSTM, Dense, Embedding, SpatialDropout1D, Bidirectional, GlobalAveragePooling1D, Dropout\n",
    "from tensorflow.keras.preprocessing.text import Tokenizer\n",
    "from tensorflow.keras.preprocessing.sequence import pad_sequences\n",
    "from tensorflow.keras.callbacks import ReduceLROnPlateau\n",
    "from sklearn.model_selection import train_test_split\n",
    "from datasets import load_dataset\n",
    "import pickle"
   ]
  },
  {
   "cell_type": "code",
   "execution_count": 11,
   "id": "15a526df",
   "metadata": {},
   "outputs": [],
   "source": [
    "ds = load_dataset(\"ErfanMoosaviMonazzah/fake-news-detection-dataset-English\")\n",
    "train_df = pd.DataFrame(ds['train'])"
   ]
  },
  {
   "cell_type": "code",
   "execution_count": 12,
   "id": "16edeb80",
   "metadata": {},
   "outputs": [],
   "source": [
    "def clean_text(text):\n",
    "    if pd.isna(text):\n",
    "        return \"\"\n",
    "    text = text.lower()\n",
    "    text = re.sub(r'[^a-zA-Z0-9\\s]', '', text)  # Remove special characters\n",
    "    text = re.sub(r'\\s+', ' ', text).strip()  # Remove extra spaces\n",
    "    return text\n",
    "\n",
    "train_df['cleaned_text'] = train_df['text'].apply(clean_text)"
   ]
  },
  {
   "cell_type": "code",
   "execution_count": 13,
   "id": "7f6e1659",
   "metadata": {},
   "outputs": [],
   "source": [
    "# Tokenization & Padding\n",
    "max_words = 10000\n",
    "max_len = 600  # Increased to handle longer real-time inputs\n",
    "tokenizer = Tokenizer(num_words=max_words, oov_token=\"<OOV>\")\n",
    "tokenizer.fit_on_texts(train_df['cleaned_text'])\n",
    "X = tokenizer.texts_to_sequences(train_df['cleaned_text'])\n",
    "X = pad_sequences(X, maxlen=max_len, padding='post')\n",
    "y = np.array(train_df['label'])"
   ]
  },
  {
   "cell_type": "code",
   "execution_count": 14,
   "id": "7b16b717",
   "metadata": {},
   "outputs": [],
   "source": [
    "X_train, X_test, y_train, y_test = train_test_split(X, y, test_size=0.2, random_state=42)\n"
   ]
  },
  {
   "cell_type": "code",
   "execution_count": 15,
   "id": "8906922a",
   "metadata": {},
   "outputs": [
    {
     "name": "stderr",
     "output_type": "stream",
     "text": [
      "C:\\Users\\keert\\AppData\\Local\\Programs\\Python\\Python311\\Lib\\site-packages\\keras\\src\\layers\\core\\embedding.py:90: UserWarning: Argument `input_length` is deprecated. Just remove it.\n",
      "  warnings.warn(\n"
     ]
    }
   ],
   "source": [
    "# Define Model\n",
    "model = Sequential([\n",
    "    Embedding(input_dim=max_words, output_dim=256, input_length=max_len),\n",
    "    SpatialDropout1D(0.3),\n",
    "    Bidirectional(LSTM(64, return_sequences=True)),\n",
    "    GlobalAveragePooling1D(),  # Helps with large inputs\n",
    "    Dropout(0.3),\n",
    "    Dense(64, activation='relu'),\n",
    "    Dropout(0.2),\n",
    "    Dense(1, activation='sigmoid')\n",
    "])\n"
   ]
  },
  {
   "cell_type": "code",
   "execution_count": 16,
   "id": "4389413a",
   "metadata": {},
   "outputs": [],
   "source": [
    "model.compile(loss='binary_crossentropy', optimizer='adam', metrics=['accuracy'])"
   ]
  },
  {
   "cell_type": "code",
   "execution_count": 20,
   "id": "7d9f0ade",
   "metadata": {},
   "outputs": [],
   "source": [
    "lr_reducer = ReduceLROnPlateau(monitor='val_loss', factor=0.5, patience=2, verbose=1)\n"
   ]
  },
  {
   "cell_type": "code",
   "execution_count": null,
   "id": "84d7b8fb",
   "metadata": {},
   "outputs": [
    {
     "name": "stdout",
     "output_type": "stream",
     "text": [
      "Epoch 1/25\n",
      "\u001b[1m375/375\u001b[0m \u001b[32m━━━━━━━━━━━━━━━━━━━━\u001b[0m\u001b[37m\u001b[0m \u001b[1m481s\u001b[0m 1s/step - accuracy: 0.9978 - loss: 0.0116 - val_accuracy: 0.9852 - val_loss: 0.0504 - learning_rate: 0.0010\n",
      "Epoch 2/25\n",
      "\u001b[1m375/375\u001b[0m \u001b[32m━━━━━━━━━━━━━━━━━━━━\u001b[0m\u001b[37m\u001b[0m \u001b[1m513s\u001b[0m 1s/step - accuracy: 0.9977 - loss: 0.0067 - val_accuracy: 0.9883 - val_loss: 0.0521 - learning_rate: 0.0010\n",
      "Epoch 3/25\n",
      "\u001b[1m375/375\u001b[0m \u001b[32m━━━━━━━━━━━━━━━━━━━━\u001b[0m\u001b[37m\u001b[0m \u001b[1m468s\u001b[0m 1s/step - accuracy: 0.9987 - loss: 0.0054 - val_accuracy: 0.9905 - val_loss: 0.0398 - learning_rate: 0.0010\n",
      "Epoch 4/25\n",
      "\u001b[1m375/375\u001b[0m \u001b[32m━━━━━━━━━━━━━━━━━━━━\u001b[0m\u001b[37m\u001b[0m \u001b[1m473s\u001b[0m 1s/step - accuracy: 0.9993 - loss: 0.0033 - val_accuracy: 0.9870 - val_loss: 0.0641 - learning_rate: 0.0010\n",
      "Epoch 5/25\n",
      "\u001b[1m375/375\u001b[0m \u001b[32m━━━━━━━━━━━━━━━━━━━━\u001b[0m\u001b[37m\u001b[0m \u001b[1m634s\u001b[0m 2s/step - accuracy: 0.9992 - loss: 0.0031 - val_accuracy: 0.9882 - val_loss: 0.0369 - learning_rate: 0.0010\n",
      "Epoch 6/25\n",
      "\u001b[1m272/375\u001b[0m \u001b[32m━━━━━━━━━━━━━━\u001b[0m\u001b[37m━━━━━━\u001b[0m \u001b[1m2:31\u001b[0m 1s/step - accuracy: 0.9978 - loss: 0.0066"
     ]
    }
   ],
   "source": [
    "model.fit(X_train, y_train, epochs=25, batch_size=64, validation_data=(X_test, y_test), callbacks=[lr_reducer])\n"
   ]
  },
  {
   "cell_type": "code",
   "execution_count": null,
   "id": "3ca4d85a",
   "metadata": {},
   "outputs": [],
   "source": []
  }
 ],
 "metadata": {
  "kernelspec": {
   "display_name": "Python 3 (ipykernel)",
   "language": "python",
   "name": "python3"
  },
  "language_info": {
   "codemirror_mode": {
    "name": "ipython",
    "version": 3
   },
   "file_extension": ".py",
   "mimetype": "text/x-python",
   "name": "python",
   "nbconvert_exporter": "python",
   "pygments_lexer": "ipython3",
   "version": "3.11.3"
  }
 },
 "nbformat": 4,
 "nbformat_minor": 5
}
